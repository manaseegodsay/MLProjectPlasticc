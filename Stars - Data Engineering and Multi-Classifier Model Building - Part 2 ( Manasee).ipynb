{
 "cells": [
  {
   "cell_type": "markdown",
   "metadata": {},
   "source": [
    "<p style=\"text-align: center;font-size: 60px;\">Stars</p>\n",
    "<br\\><br\\>\n",
    "PLAsTiCC Astronomical Classification<br/>\n",
    "https://www.kaggle.com/c/PLAsTiCC-2018\n",
    "<br\\><br\\>\n",
    "\n",
    "[Kernel]<br\\>\n",
    "* Kernel Strategies for Flux Time Series Preprocessing<br/>\n",
    "https://www.kaggle.com/mithrillion/strategies-for-flux-time-series-preprocessing\n",
    "\n",
    "* Light Gradient Boosting Machine<br/>\n",
    "https://www.kaggle.com/iprapas/ideas-from-kernels-and-discussion-lb-1-135\n",
    "<br\\>\n",
    "\n",
    "* Kernel using Neural Network<br/>\n",
    "https://www.kaggle.com/meaninglesslives/simple-neural-net-for-time-series-classification\n"
   ]
  },
  {
   "cell_type": "code",
   "execution_count": 23,
   "metadata": {
    "collapsed": true
   },
   "outputs": [],
   "source": [
    "import numpy as np\n",
    "import pandas as pd\n",
    "import seaborn as sns\n",
    "import matplotlib.pyplot as plt\n",
    "%matplotlib inline\n",
    "import warnings\n",
    "warnings.filterwarnings('ignore')\n",
    "import gc"
   ]
  },
  {
   "cell_type": "markdown",
   "metadata": {},
   "source": [
    "<p style=\"text-align: center;font-size: 40px;\">Part 1. Load Metadata</p>\n",
    "<br\\>"
   ]
  },
  {
   "cell_type": "markdown",
   "metadata": {},
   "source": [
    "# 1. Load Training Metatata"
   ]
  },
  {
   "cell_type": "code",
   "execution_count": 24,
   "metadata": {},
   "outputs": [
    {
     "name": "stdout",
     "output_type": "stream",
     "text": [
      "Size: 7848\n"
     ]
    },
    {
     "data": {
      "text/html": [
       "<div>\n",
       "<style>\n",
       "    .dataframe thead tr:only-child th {\n",
       "        text-align: right;\n",
       "    }\n",
       "\n",
       "    .dataframe thead th {\n",
       "        text-align: left;\n",
       "    }\n",
       "\n",
       "    .dataframe tbody tr th {\n",
       "        vertical-align: top;\n",
       "    }\n",
       "</style>\n",
       "<table border=\"1\" class=\"dataframe\">\n",
       "  <thead>\n",
       "    <tr style=\"text-align: right;\">\n",
       "      <th></th>\n",
       "      <th>object_id</th>\n",
       "      <th>ra</th>\n",
       "      <th>decl</th>\n",
       "      <th>gal_l</th>\n",
       "      <th>gal_b</th>\n",
       "      <th>ddf</th>\n",
       "      <th>hostgal_specz</th>\n",
       "      <th>hostgal_photoz</th>\n",
       "      <th>hostgal_photoz_err</th>\n",
       "      <th>distmod</th>\n",
       "      <th>mwebv</th>\n",
       "      <th>target</th>\n",
       "    </tr>\n",
       "  </thead>\n",
       "  <tbody>\n",
       "    <tr>\n",
       "      <th>0</th>\n",
       "      <td>615</td>\n",
       "      <td>349.046051</td>\n",
       "      <td>-61.943836</td>\n",
       "      <td>320.796530</td>\n",
       "      <td>-51.753706</td>\n",
       "      <td>1</td>\n",
       "      <td>0.0000</td>\n",
       "      <td>0.0000</td>\n",
       "      <td>0.0000</td>\n",
       "      <td>NaN</td>\n",
       "      <td>0.017</td>\n",
       "      <td>92</td>\n",
       "    </tr>\n",
       "    <tr>\n",
       "      <th>1</th>\n",
       "      <td>713</td>\n",
       "      <td>53.085938</td>\n",
       "      <td>-27.784405</td>\n",
       "      <td>223.525509</td>\n",
       "      <td>-54.460748</td>\n",
       "      <td>1</td>\n",
       "      <td>1.8181</td>\n",
       "      <td>1.6267</td>\n",
       "      <td>0.2552</td>\n",
       "      <td>45.4063</td>\n",
       "      <td>0.007</td>\n",
       "      <td>88</td>\n",
       "    </tr>\n",
       "    <tr>\n",
       "      <th>2</th>\n",
       "      <td>730</td>\n",
       "      <td>33.574219</td>\n",
       "      <td>-6.579593</td>\n",
       "      <td>170.455585</td>\n",
       "      <td>-61.548219</td>\n",
       "      <td>1</td>\n",
       "      <td>0.2320</td>\n",
       "      <td>0.2262</td>\n",
       "      <td>0.0157</td>\n",
       "      <td>40.2561</td>\n",
       "      <td>0.021</td>\n",
       "      <td>42</td>\n",
       "    </tr>\n",
       "  </tbody>\n",
       "</table>\n",
       "</div>"
      ],
      "text/plain": [
       "   object_id          ra       decl       gal_l      gal_b  ddf  \\\n",
       "0        615  349.046051 -61.943836  320.796530 -51.753706    1   \n",
       "1        713   53.085938 -27.784405  223.525509 -54.460748    1   \n",
       "2        730   33.574219  -6.579593  170.455585 -61.548219    1   \n",
       "\n",
       "   hostgal_specz  hostgal_photoz  hostgal_photoz_err  distmod  mwebv  target  \n",
       "0         0.0000          0.0000              0.0000      NaN  0.017      92  \n",
       "1         1.8181          1.6267              0.2552  45.4063  0.007      88  \n",
       "2         0.2320          0.2262              0.0157  40.2561  0.021      42  "
      ]
     },
     "execution_count": 24,
     "metadata": {},
     "output_type": "execute_result"
    }
   ],
   "source": [
    "# tm: train_metadata\n",
    "TM = pd.read_csv('training_set_metadata.csv')\n",
    "print(\"Size:\", TM.shape[0])\n",
    "TM.sort_values(by=['object_id'], ascending=True).head(3)"
   ]
  },
  {
   "cell_type": "markdown",
   "metadata": {},
   "source": [
    "# 2. Modify column property and Remove unused column\n",
    "* Change datatype into categorical data for column['DDF', 'target']\n",
    "* Remove unused cloumn['hostgal_specz']"
   ]
  },
  {
   "cell_type": "code",
   "execution_count": 25,
   "metadata": {},
   "outputs": [
    {
     "data": {
      "text/html": [
       "<div>\n",
       "<style>\n",
       "    .dataframe thead tr:only-child th {\n",
       "        text-align: right;\n",
       "    }\n",
       "\n",
       "    .dataframe thead th {\n",
       "        text-align: left;\n",
       "    }\n",
       "\n",
       "    .dataframe tbody tr th {\n",
       "        vertical-align: top;\n",
       "    }\n",
       "</style>\n",
       "<table border=\"1\" class=\"dataframe\">\n",
       "  <thead>\n",
       "    <tr style=\"text-align: right;\">\n",
       "      <th></th>\n",
       "      <th>object_id</th>\n",
       "      <th>ra</th>\n",
       "      <th>decl</th>\n",
       "      <th>gal_l</th>\n",
       "      <th>gal_b</th>\n",
       "      <th>ddf</th>\n",
       "      <th>hostgal_photoz</th>\n",
       "      <th>hostgal_photoz_err</th>\n",
       "      <th>distmod</th>\n",
       "      <th>mwebv</th>\n",
       "      <th>target</th>\n",
       "    </tr>\n",
       "  </thead>\n",
       "  <tbody>\n",
       "    <tr>\n",
       "      <th>0</th>\n",
       "      <td>615</td>\n",
       "      <td>349.046051</td>\n",
       "      <td>-61.943836</td>\n",
       "      <td>320.796530</td>\n",
       "      <td>-51.753706</td>\n",
       "      <td>1</td>\n",
       "      <td>0.0000</td>\n",
       "      <td>0.0000</td>\n",
       "      <td>NaN</td>\n",
       "      <td>0.017</td>\n",
       "      <td>92</td>\n",
       "    </tr>\n",
       "    <tr>\n",
       "      <th>1</th>\n",
       "      <td>713</td>\n",
       "      <td>53.085938</td>\n",
       "      <td>-27.784405</td>\n",
       "      <td>223.525509</td>\n",
       "      <td>-54.460748</td>\n",
       "      <td>1</td>\n",
       "      <td>1.6267</td>\n",
       "      <td>0.2552</td>\n",
       "      <td>45.4063</td>\n",
       "      <td>0.007</td>\n",
       "      <td>88</td>\n",
       "    </tr>\n",
       "    <tr>\n",
       "      <th>2</th>\n",
       "      <td>730</td>\n",
       "      <td>33.574219</td>\n",
       "      <td>-6.579593</td>\n",
       "      <td>170.455585</td>\n",
       "      <td>-61.548219</td>\n",
       "      <td>1</td>\n",
       "      <td>0.2262</td>\n",
       "      <td>0.0157</td>\n",
       "      <td>40.2561</td>\n",
       "      <td>0.021</td>\n",
       "      <td>42</td>\n",
       "    </tr>\n",
       "  </tbody>\n",
       "</table>\n",
       "</div>"
      ],
      "text/plain": [
       "   object_id          ra       decl       gal_l      gal_b ddf  \\\n",
       "0        615  349.046051 -61.943836  320.796530 -51.753706   1   \n",
       "1        713   53.085938 -27.784405  223.525509 -54.460748   1   \n",
       "2        730   33.574219  -6.579593  170.455585 -61.548219   1   \n",
       "\n",
       "   hostgal_photoz  hostgal_photoz_err  distmod  mwebv target  \n",
       "0          0.0000              0.0000      NaN  0.017     92  \n",
       "1          1.6267              0.2552  45.4063  0.007     88  \n",
       "2          0.2262              0.0157  40.2561  0.021     42  "
      ]
     },
     "execution_count": 25,
     "metadata": {},
     "output_type": "execute_result"
    }
   ],
   "source": [
    "TM['ddf'] = TM['ddf'].astype('category')\n",
    "TM['target'] = TM['target'].astype('category')\n",
    "TM.drop(['hostgal_specz'], axis=1, inplace=True)\n",
    "TM.sort_values(by=['object_id'], ascending=True).head(3)"
   ]
  },
  {
   "cell_type": "markdown",
   "metadata": {},
   "source": [
    "<p style=\"text-align: center;font-size: 40px;\">Part 2. Load Time series data</p>\n",
    "<br\\>"
   ]
  },
  {
   "cell_type": "markdown",
   "metadata": {},
   "source": [
    "# 1. Load Training Time Series Data"
   ]
  },
  {
   "cell_type": "code",
   "execution_count": 26,
   "metadata": {},
   "outputs": [
    {
     "name": "stdout",
     "output_type": "stream",
     "text": [
      "Size: 1421705\n"
     ]
    },
    {
     "data": {
      "text/html": [
       "<div>\n",
       "<style>\n",
       "    .dataframe thead tr:only-child th {\n",
       "        text-align: right;\n",
       "    }\n",
       "\n",
       "    .dataframe thead th {\n",
       "        text-align: left;\n",
       "    }\n",
       "\n",
       "    .dataframe tbody tr th {\n",
       "        vertical-align: top;\n",
       "    }\n",
       "</style>\n",
       "<table border=\"1\" class=\"dataframe\">\n",
       "  <thead>\n",
       "    <tr style=\"text-align: right;\">\n",
       "      <th></th>\n",
       "      <th>object_id</th>\n",
       "      <th>mjd</th>\n",
       "      <th>passband</th>\n",
       "      <th>flux</th>\n",
       "      <th>flux_err</th>\n",
       "      <th>detected</th>\n",
       "    </tr>\n",
       "  </thead>\n",
       "  <tbody>\n",
       "    <tr>\n",
       "      <th>0</th>\n",
       "      <td>615</td>\n",
       "      <td>59750.4229</td>\n",
       "      <td>2</td>\n",
       "      <td>-544.810303</td>\n",
       "      <td>3.622952</td>\n",
       "      <td>1</td>\n",
       "    </tr>\n",
       "    <tr>\n",
       "      <th>239</th>\n",
       "      <td>615</td>\n",
       "      <td>60493.2639</td>\n",
       "      <td>4</td>\n",
       "      <td>-406.733521</td>\n",
       "      <td>3.772714</td>\n",
       "      <td>1</td>\n",
       "    </tr>\n",
       "    <tr>\n",
       "      <th>238</th>\n",
       "      <td>615</td>\n",
       "      <td>60493.2527</td>\n",
       "      <td>3</td>\n",
       "      <td>-530.644592</td>\n",
       "      <td>3.672556</td>\n",
       "      <td>1</td>\n",
       "    </tr>\n",
       "    <tr>\n",
       "      <th>237</th>\n",
       "      <td>615</td>\n",
       "      <td>60493.2450</td>\n",
       "      <td>1</td>\n",
       "      <td>-1031.102905</td>\n",
       "      <td>6.378702</td>\n",
       "      <td>1</td>\n",
       "    </tr>\n",
       "    <tr>\n",
       "      <th>236</th>\n",
       "      <td>615</td>\n",
       "      <td>60493.2372</td>\n",
       "      <td>2</td>\n",
       "      <td>-680.489441</td>\n",
       "      <td>4.065931</td>\n",
       "      <td>1</td>\n",
       "    </tr>\n",
       "    <tr>\n",
       "      <th>235</th>\n",
       "      <td>615</td>\n",
       "      <td>60490.3024</td>\n",
       "      <td>5</td>\n",
       "      <td>-395.406128</td>\n",
       "      <td>8.139952</td>\n",
       "      <td>1</td>\n",
       "    </tr>\n",
       "    <tr>\n",
       "      <th>234</th>\n",
       "      <td>615</td>\n",
       "      <td>60490.2913</td>\n",
       "      <td>4</td>\n",
       "      <td>-371.286377</td>\n",
       "      <td>3.985296</td>\n",
       "      <td>1</td>\n",
       "    </tr>\n",
       "    <tr>\n",
       "      <th>233</th>\n",
       "      <td>615</td>\n",
       "      <td>60490.2802</td>\n",
       "      <td>3</td>\n",
       "      <td>-405.614258</td>\n",
       "      <td>3.513195</td>\n",
       "      <td>1</td>\n",
       "    </tr>\n",
       "    <tr>\n",
       "      <th>232</th>\n",
       "      <td>615</td>\n",
       "      <td>60490.2725</td>\n",
       "      <td>1</td>\n",
       "      <td>-624.518799</td>\n",
       "      <td>4.704853</td>\n",
       "      <td>1</td>\n",
       "    </tr>\n",
       "    <tr>\n",
       "      <th>240</th>\n",
       "      <td>615</td>\n",
       "      <td>60493.2750</td>\n",
       "      <td>5</td>\n",
       "      <td>-358.876160</td>\n",
       "      <td>7.310321</td>\n",
       "      <td>1</td>\n",
       "    </tr>\n",
       "  </tbody>\n",
       "</table>\n",
       "</div>"
      ],
      "text/plain": [
       "     object_id         mjd  passband         flux  flux_err  detected\n",
       "0          615  59750.4229         2  -544.810303  3.622952         1\n",
       "239        615  60493.2639         4  -406.733521  3.772714         1\n",
       "238        615  60493.2527         3  -530.644592  3.672556         1\n",
       "237        615  60493.2450         1 -1031.102905  6.378702         1\n",
       "236        615  60493.2372         2  -680.489441  4.065931         1\n",
       "235        615  60490.3024         5  -395.406128  8.139952         1\n",
       "234        615  60490.2913         4  -371.286377  3.985296         1\n",
       "233        615  60490.2802         3  -405.614258  3.513195         1\n",
       "232        615  60490.2725         1  -624.518799  4.704853         1\n",
       "240        615  60493.2750         5  -358.876160  7.310321         1"
      ]
     },
     "execution_count": 26,
     "metadata": {},
     "output_type": "execute_result"
    }
   ],
   "source": [
    "# ts: train_series_data\n",
    "TS = pd.read_csv('training_set.csv')\n",
    "print(\"Size:\", TS.shape[0])\n",
    "TS.sort_values(by=['object_id'], ascending=True).head(10)"
   ]
  },
  {
   "cell_type": "markdown",
   "metadata": {},
   "source": [
    "# 2. Aggregation and Merging"
   ]
  },
  {
   "cell_type": "markdown",
   "metadata": {},
   "source": [
    "## 2-1 Generate statistical data based on (object_id, passband)"
   ]
  },
  {
   "cell_type": "code",
   "execution_count": 27,
   "metadata": {},
   "outputs": [
    {
     "data": {
      "text/plain": [
       "300"
      ]
     },
     "execution_count": 27,
     "metadata": {},
     "output_type": "execute_result"
    }
   ],
   "source": [
    "features = TS.copy()\n",
    "gc.enable()\n",
    "\n",
    "# Generate new features\n",
    "features['flux_ratio_sq'] = np.power(features['flux'] / features['flux_err'], 2.0)\n",
    "features['flux_by_flux_ratio_sq'] = features['flux'] * features['flux_ratio_sq']\n",
    "\n",
    "aggs = {\n",
    "    'mjd': ['min', 'max', 'size'],\n",
    "    'flux': ['min', 'max', 'mean', 'median', 'std','skew'],\n",
    "    'flux_err': ['min', 'max', 'mean', 'median', 'std','skew'],\n",
    "    'detected': ['mean'],\n",
    "    'flux_ratio_sq':['sum','skew'],\n",
    "    'flux_by_flux_ratio_sq':['sum','skew'],\n",
    "}\n",
    "\n",
    "# Execute aggregation and rename columns\n",
    "agg_features = features.groupby(['object_id','passband']).agg(aggs)\n",
    "new_columns = [k + '_' + agg for k in aggs.keys() for agg in aggs[k]]\n",
    "agg_features.columns = new_columns\n",
    "\n",
    "# Generate new features \n",
    "agg_features['mjd_diff'] = agg_features['mjd_max'] - agg_features['mjd_min']\n",
    "agg_features['flux_diff'] = agg_features['flux_max'] - agg_features['flux_min']\n",
    "agg_features['flux_dif2'] = (agg_features['flux_max'] - agg_features['flux_min']) / agg_features['flux_mean']\n",
    "agg_features['flux_w_mean'] = agg_features['flux_by_flux_ratio_sq_sum'] / agg_features['flux_ratio_sq_sum']\n",
    "agg_features['flux_dif3'] = (agg_features['flux_max'] - agg_features['flux_min']) / agg_features['flux_w_mean']\n",
    "\n",
    "# Remove usless columns\n",
    "del agg_features['mjd_max'], agg_features['mjd_min']\n",
    "gc.collect()"
   ]
  },
  {
   "cell_type": "code",
   "execution_count": 28,
   "metadata": {},
   "outputs": [
    {
     "data": {
      "text/html": [
       "<div>\n",
       "<style>\n",
       "    .dataframe thead tr:only-child th {\n",
       "        text-align: right;\n",
       "    }\n",
       "\n",
       "    .dataframe thead th {\n",
       "        text-align: left;\n",
       "    }\n",
       "\n",
       "    .dataframe tbody tr th {\n",
       "        vertical-align: top;\n",
       "    }\n",
       "</style>\n",
       "<table border=\"1\" class=\"dataframe\">\n",
       "  <thead>\n",
       "    <tr style=\"text-align: right;\">\n",
       "      <th></th>\n",
       "      <th>object_id</th>\n",
       "      <th>passband0_mjd_size</th>\n",
       "      <th>passband1_mjd_size</th>\n",
       "      <th>passband2_mjd_size</th>\n",
       "      <th>passband3_mjd_size</th>\n",
       "      <th>passband4_mjd_size</th>\n",
       "      <th>passband5_mjd_size</th>\n",
       "      <th>passband0_flux_min</th>\n",
       "      <th>passband1_flux_min</th>\n",
       "      <th>passband2_flux_min</th>\n",
       "      <th>...</th>\n",
       "      <th>passband2_flux_w_mean</th>\n",
       "      <th>passband3_flux_w_mean</th>\n",
       "      <th>passband4_flux_w_mean</th>\n",
       "      <th>passband5_flux_w_mean</th>\n",
       "      <th>passband0_flux_dif3</th>\n",
       "      <th>passband1_flux_dif3</th>\n",
       "      <th>passband2_flux_dif3</th>\n",
       "      <th>passband3_flux_dif3</th>\n",
       "      <th>passband4_flux_dif3</th>\n",
       "      <th>passband5_flux_dif3</th>\n",
       "    </tr>\n",
       "  </thead>\n",
       "  <tbody>\n",
       "    <tr>\n",
       "      <th>0</th>\n",
       "      <td>615</td>\n",
       "      <td>63</td>\n",
       "      <td>58</td>\n",
       "      <td>58</td>\n",
       "      <td>58</td>\n",
       "      <td>58</td>\n",
       "      <td>57</td>\n",
       "      <td>-116.913223</td>\n",
       "      <td>-1100.440063</td>\n",
       "      <td>-681.858887</td>\n",
       "      <td>...</td>\n",
       "      <td>-214.947803</td>\n",
       "      <td>-232.265606</td>\n",
       "      <td>-111.843477</td>\n",
       "      <td>-126.326197</td>\n",
       "      <td>-12.552744</td>\n",
       "      <td>-2.790325</td>\n",
       "      <td>-6.019338</td>\n",
       "      <td>-4.203729</td>\n",
       "      <td>-7.189854</td>\n",
       "      <td>-6.340753</td>\n",
       "    </tr>\n",
       "    <tr>\n",
       "      <th>1</th>\n",
       "      <td>713</td>\n",
       "      <td>70</td>\n",
       "      <td>56</td>\n",
       "      <td>56</td>\n",
       "      <td>56</td>\n",
       "      <td>56</td>\n",
       "      <td>56</td>\n",
       "      <td>-14.735178</td>\n",
       "      <td>-11.715749</td>\n",
       "      <td>-10.067919</td>\n",
       "      <td>...</td>\n",
       "      <td>-3.821839</td>\n",
       "      <td>-4.894058</td>\n",
       "      <td>-4.179287</td>\n",
       "      <td>-4.904860</td>\n",
       "      <td>-4.110659</td>\n",
       "      <td>-4.106502</td>\n",
       "      <td>-5.389280</td>\n",
       "      <td>-4.847697</td>\n",
       "      <td>-5.291509</td>\n",
       "      <td>-5.908843</td>\n",
       "    </tr>\n",
       "    <tr>\n",
       "      <th>2</th>\n",
       "      <td>730</td>\n",
       "      <td>72</td>\n",
       "      <td>52</td>\n",
       "      <td>52</td>\n",
       "      <td>52</td>\n",
       "      <td>51</td>\n",
       "      <td>51</td>\n",
       "      <td>-3.459960</td>\n",
       "      <td>-3.393080</td>\n",
       "      <td>-2.848838</td>\n",
       "      <td>...</td>\n",
       "      <td>16.797566</td>\n",
       "      <td>26.385068</td>\n",
       "      <td>33.303042</td>\n",
       "      <td>32.979248</td>\n",
       "      <td>216.222790</td>\n",
       "      <td>26.022646</td>\n",
       "      <td>1.419465</td>\n",
       "      <td>1.478408</td>\n",
       "      <td>1.411171</td>\n",
       "      <td>2.015506</td>\n",
       "    </tr>\n",
       "  </tbody>\n",
       "</table>\n",
       "<p>3 rows × 139 columns</p>\n",
       "</div>"
      ],
      "text/plain": [
       "   object_id  passband0_mjd_size  passband1_mjd_size  passband2_mjd_size  \\\n",
       "0        615                  63                  58                  58   \n",
       "1        713                  70                  56                  56   \n",
       "2        730                  72                  52                  52   \n",
       "\n",
       "   passband3_mjd_size  passband4_mjd_size  passband5_mjd_size  \\\n",
       "0                  58                  58                  57   \n",
       "1                  56                  56                  56   \n",
       "2                  52                  51                  51   \n",
       "\n",
       "   passband0_flux_min  passband1_flux_min  passband2_flux_min  \\\n",
       "0         -116.913223        -1100.440063         -681.858887   \n",
       "1          -14.735178          -11.715749          -10.067919   \n",
       "2           -3.459960           -3.393080           -2.848838   \n",
       "\n",
       "          ...           passband2_flux_w_mean  passband3_flux_w_mean  \\\n",
       "0         ...                     -214.947803            -232.265606   \n",
       "1         ...                       -3.821839              -4.894058   \n",
       "2         ...                       16.797566              26.385068   \n",
       "\n",
       "   passband4_flux_w_mean  passband5_flux_w_mean  passband0_flux_dif3  \\\n",
       "0            -111.843477            -126.326197           -12.552744   \n",
       "1              -4.179287              -4.904860            -4.110659   \n",
       "2              33.303042              32.979248           216.222790   \n",
       "\n",
       "   passband1_flux_dif3  passband2_flux_dif3  passband3_flux_dif3  \\\n",
       "0            -2.790325            -6.019338            -4.203729   \n",
       "1            -4.106502            -5.389280            -4.847697   \n",
       "2            26.022646             1.419465             1.478408   \n",
       "\n",
       "   passband4_flux_dif3  passband5_flux_dif3  \n",
       "0            -7.189854            -6.340753  \n",
       "1            -5.291509            -5.908843  \n",
       "2             1.411171             2.015506  \n",
       "\n",
       "[3 rows x 139 columns]"
      ]
     },
     "execution_count": 28,
     "metadata": {},
     "output_type": "execute_result"
    }
   ],
   "source": [
    "# Update column names\n",
    "\n",
    "updated_agg = agg_features.unstack()\n",
    "\n",
    "updated_columns = []\n",
    "for column in list(agg_features):\n",
    "    for i in range(0,6):\n",
    "        updated_columns.append('passband' + str(i) + '_' + column)\n",
    "\n",
    "updated_agg.columns = updated_columns\n",
    "updated_agg.reset_index(inplace=True)\n",
    "updated_agg.head(3)"
   ]
  },
  {
   "cell_type": "code",
   "execution_count": 29,
   "metadata": {},
   "outputs": [
    {
     "name": "stdout",
     "output_type": "stream",
     "text": [
      "shape: (7848, 139)\n",
      "number of rows having any null value 1\n",
      "number of rows having any null value after fill zero 0\n"
     ]
    }
   ],
   "source": [
    "# Check and clean null data\n",
    "\n",
    "print('shape:', updated_agg.shape)\n",
    "problemed_data = updated_agg[updated_agg.isnull().any(axis=1)]\n",
    "print('number of rows having any null value', problemed_data.shape[0])\n",
    "updated_agg.fillna(0, inplace=True)\n",
    "problemed_data = updated_agg[updated_agg.isnull().any(axis=1)]\n",
    "print('number of rows having any null value after fill zero', problemed_data.shape[0])"
   ]
  },
  {
   "cell_type": "markdown",
   "metadata": {},
   "source": [
    "## 2-2 Merge Metadata and Time Series Data AND \"Save it\""
   ]
  },
  {
   "cell_type": "code",
   "execution_count": 30,
   "metadata": {
    "collapsed": true
   },
   "outputs": [],
   "source": [
    "all_features = pd.merge(updated_agg, TM, left_on='object_id', right_on='object_id', how='left')\n",
    "del all_features['distmod']\n",
    "\n",
    "all_features.to_csv('training_aggregated_data.csv', index=False)"
   ]
  },
  {
   "cell_type": "markdown",
   "metadata": {},
   "source": [
    "## 2-3 Read data from disk"
   ]
  },
  {
   "cell_type": "code",
   "execution_count": 31,
   "metadata": {},
   "outputs": [
    {
     "data": {
      "text/html": [
       "<div>\n",
       "<style>\n",
       "    .dataframe thead tr:only-child th {\n",
       "        text-align: right;\n",
       "    }\n",
       "\n",
       "    .dataframe thead th {\n",
       "        text-align: left;\n",
       "    }\n",
       "\n",
       "    .dataframe tbody tr th {\n",
       "        vertical-align: top;\n",
       "    }\n",
       "</style>\n",
       "<table border=\"1\" class=\"dataframe\">\n",
       "  <thead>\n",
       "    <tr style=\"text-align: right;\">\n",
       "      <th></th>\n",
       "      <th>object_id</th>\n",
       "      <th>passband0_mjd_size</th>\n",
       "      <th>passband1_mjd_size</th>\n",
       "      <th>passband2_mjd_size</th>\n",
       "      <th>passband3_mjd_size</th>\n",
       "      <th>passband4_mjd_size</th>\n",
       "      <th>passband5_mjd_size</th>\n",
       "      <th>passband0_flux_min</th>\n",
       "      <th>passband1_flux_min</th>\n",
       "      <th>passband2_flux_min</th>\n",
       "      <th>...</th>\n",
       "      <th>passband5_flux_dif3</th>\n",
       "      <th>ra</th>\n",
       "      <th>decl</th>\n",
       "      <th>gal_l</th>\n",
       "      <th>gal_b</th>\n",
       "      <th>ddf</th>\n",
       "      <th>hostgal_photoz</th>\n",
       "      <th>hostgal_photoz_err</th>\n",
       "      <th>mwebv</th>\n",
       "      <th>target</th>\n",
       "    </tr>\n",
       "  </thead>\n",
       "  <tbody>\n",
       "    <tr>\n",
       "      <th>0</th>\n",
       "      <td>615</td>\n",
       "      <td>63</td>\n",
       "      <td>58</td>\n",
       "      <td>58</td>\n",
       "      <td>58</td>\n",
       "      <td>58</td>\n",
       "      <td>57</td>\n",
       "      <td>-116.913223</td>\n",
       "      <td>-1100.440063</td>\n",
       "      <td>-681.858887</td>\n",
       "      <td>...</td>\n",
       "      <td>-6.340753</td>\n",
       "      <td>349.046051</td>\n",
       "      <td>-61.943836</td>\n",
       "      <td>320.796530</td>\n",
       "      <td>-51.753706</td>\n",
       "      <td>1</td>\n",
       "      <td>0.0000</td>\n",
       "      <td>0.0000</td>\n",
       "      <td>0.017</td>\n",
       "      <td>92</td>\n",
       "    </tr>\n",
       "    <tr>\n",
       "      <th>1</th>\n",
       "      <td>713</td>\n",
       "      <td>70</td>\n",
       "      <td>56</td>\n",
       "      <td>56</td>\n",
       "      <td>56</td>\n",
       "      <td>56</td>\n",
       "      <td>56</td>\n",
       "      <td>-14.735178</td>\n",
       "      <td>-11.715749</td>\n",
       "      <td>-10.067919</td>\n",
       "      <td>...</td>\n",
       "      <td>-5.908843</td>\n",
       "      <td>53.085938</td>\n",
       "      <td>-27.784405</td>\n",
       "      <td>223.525509</td>\n",
       "      <td>-54.460748</td>\n",
       "      <td>1</td>\n",
       "      <td>1.6267</td>\n",
       "      <td>0.2552</td>\n",
       "      <td>0.007</td>\n",
       "      <td>88</td>\n",
       "    </tr>\n",
       "    <tr>\n",
       "      <th>2</th>\n",
       "      <td>730</td>\n",
       "      <td>72</td>\n",
       "      <td>52</td>\n",
       "      <td>52</td>\n",
       "      <td>52</td>\n",
       "      <td>51</td>\n",
       "      <td>51</td>\n",
       "      <td>-3.459960</td>\n",
       "      <td>-3.393080</td>\n",
       "      <td>-2.848838</td>\n",
       "      <td>...</td>\n",
       "      <td>2.015506</td>\n",
       "      <td>33.574219</td>\n",
       "      <td>-6.579593</td>\n",
       "      <td>170.455585</td>\n",
       "      <td>-61.548219</td>\n",
       "      <td>1</td>\n",
       "      <td>0.2262</td>\n",
       "      <td>0.0157</td>\n",
       "      <td>0.021</td>\n",
       "      <td>42</td>\n",
       "    </tr>\n",
       "  </tbody>\n",
       "</table>\n",
       "<p>3 rows × 148 columns</p>\n",
       "</div>"
      ],
      "text/plain": [
       "   object_id  passband0_mjd_size  passband1_mjd_size  passband2_mjd_size  \\\n",
       "0        615                  63                  58                  58   \n",
       "1        713                  70                  56                  56   \n",
       "2        730                  72                  52                  52   \n",
       "\n",
       "   passband3_mjd_size  passband4_mjd_size  passband5_mjd_size  \\\n",
       "0                  58                  58                  57   \n",
       "1                  56                  56                  56   \n",
       "2                  52                  51                  51   \n",
       "\n",
       "   passband0_flux_min  passband1_flux_min  passband2_flux_min   ...    \\\n",
       "0         -116.913223        -1100.440063         -681.858887   ...     \n",
       "1          -14.735178          -11.715749          -10.067919   ...     \n",
       "2           -3.459960           -3.393080           -2.848838   ...     \n",
       "\n",
       "   passband5_flux_dif3          ra       decl       gal_l      gal_b  ddf  \\\n",
       "0            -6.340753  349.046051 -61.943836  320.796530 -51.753706    1   \n",
       "1            -5.908843   53.085938 -27.784405  223.525509 -54.460748    1   \n",
       "2             2.015506   33.574219  -6.579593  170.455585 -61.548219    1   \n",
       "\n",
       "   hostgal_photoz  hostgal_photoz_err  mwebv  target  \n",
       "0          0.0000              0.0000  0.017      92  \n",
       "1          1.6267              0.2552  0.007      88  \n",
       "2          0.2262              0.0157  0.021      42  \n",
       "\n",
       "[3 rows x 148 columns]"
      ]
     },
     "execution_count": 31,
     "metadata": {},
     "output_type": "execute_result"
    }
   ],
   "source": [
    "all_features = pd.read_csv('training_aggregated_data.csv')\n",
    "all_features.head(3)"
   ]
  },
  {
   "cell_type": "markdown",
   "metadata": {},
   "source": [
    "<p style=\"text-align: center;font-size: 40px;\">Part 3. <br\\><br\\>Split data into training set and test set</p>\n",
    "<br\\>"
   ]
  },
  {
   "cell_type": "markdown",
   "metadata": {},
   "source": [
    "# 1. Seperate data into train and test"
   ]
  },
  {
   "cell_type": "code",
   "execution_count": 32,
   "metadata": {
    "collapsed": true
   },
   "outputs": [],
   "source": [
    "from sklearn.model_selection import StratifiedShuffleSplit"
   ]
  },
  {
   "cell_type": "code",
   "execution_count": 33,
   "metadata": {},
   "outputs": [
    {
     "name": "stdout",
     "output_type": "stream",
     "text": [
      "TRAIN: [6087 1980 1968 ... 1939 3209 4710] TEST: [ 749 3164  421 ... 6442  311 3179]\n"
     ]
    }
   ],
   "source": [
    "# https://stackoverflow.com/questions/51852551/key-error-not-in-index-while-cross-validation\n",
    "# add iloc while setting train and test by index number\n",
    "y = all_features[['target']]\n",
    "X = all_features.copy()\n",
    "del X['target'], X['object_id']\n",
    "\n",
    "sss = StratifiedShuffleSplit(n_splits=1, test_size=0.3, random_state=0)\n",
    "sss.get_n_splits(X, y)\n",
    "\n",
    "for train_index, test_index in sss.split(X, y):\n",
    "    print(\"TRAIN:\", train_index, \"TEST:\", test_index)\n",
    "    X_train, X_test = X.iloc[train_index], X.iloc[test_index]\n",
    "    y_train, y_test = y.iloc[train_index], y.iloc[test_index]"
   ]
  },
  {
   "cell_type": "markdown",
   "metadata": {},
   "source": [
    "<p style=\"text-align: center;font-size: 40px;\">Part 4. <br\\><br\\> Feature Selection</p>\n",
    "<br\\>\n",
    "Sklearn Feature Selection<br\\>\n",
    "https://scikit-learn.org/stable/modules/feature_selection.html#feature-selection-using-selectfrommodel"
   ]
  },
  {
   "cell_type": "markdown",
   "metadata": {},
   "source": [
    "# Feature normalization"
   ]
  },
  {
   "cell_type": "code",
   "execution_count": 34,
   "metadata": {
    "collapsed": true
   },
   "outputs": [],
   "source": [
    "from sklearn.preprocessing import MinMaxScaler"
   ]
  },
  {
   "cell_type": "code",
   "execution_count": 35,
   "metadata": {
    "collapsed": true
   },
   "outputs": [],
   "source": [
    "X_train = MinMaxScaler().fit_transform(X_train)\n",
    "X_test = MinMaxScaler().fit_transform(X_test)"
   ]
  },
  {
   "cell_type": "markdown",
   "metadata": {},
   "source": [
    "# 1. Feature selection with different methods from Sklearn"
   ]
  },
  {
   "cell_type": "markdown",
   "metadata": {},
   "source": [
    "## 1.1 Removing features with low variance"
   ]
  },
  {
   "cell_type": "code",
   "execution_count": 36,
   "metadata": {
    "collapsed": true
   },
   "outputs": [],
   "source": [
    "from sklearn.feature_selection import VarianceThreshold"
   ]
  },
  {
   "cell_type": "code",
   "execution_count": 37,
   "metadata": {},
   "outputs": [
    {
     "data": {
      "text/plain": [
       "(5493, 4)"
      ]
     },
     "execution_count": 37,
     "metadata": {},
     "output_type": "execute_result"
    }
   ],
   "source": [
    "sel = VarianceThreshold(.9 * (1 - .9))\n",
    "X_new1 = sel.fit_transform(X_train)\n",
    "X_new1.shape"
   ]
  },
  {
   "cell_type": "markdown",
   "metadata": {},
   "source": [
    "## 1.2 Univariate feature selection"
   ]
  },
  {
   "cell_type": "code",
   "execution_count": 38,
   "metadata": {
    "collapsed": true
   },
   "outputs": [],
   "source": [
    "from sklearn.feature_selection import SelectKBest\n",
    "from sklearn.feature_selection import chi2"
   ]
  },
  {
   "cell_type": "code",
   "execution_count": 39,
   "metadata": {},
   "outputs": [
    {
     "data": {
      "text/plain": [
       "(5493, 10)"
      ]
     },
     "execution_count": 39,
     "metadata": {},
     "output_type": "execute_result"
    }
   ],
   "source": [
    "X_new2 = SelectKBest(chi2, k=10).fit_transform(X_train, y_train)\n",
    "X_new2.shape"
   ]
  },
  {
   "cell_type": "markdown",
   "metadata": {},
   "source": [
    "## 1.3 Feature selection using different model with SelectFromModel"
   ]
  },
  {
   "cell_type": "code",
   "execution_count": 40,
   "metadata": {},
   "outputs": [],
   "source": [
    "from sklearn.svm import LinearSVC\n",
    "from sklearn.linear_model import LogisticRegression\n",
    "from sklearn.ensemble import ExtraTreesClassifier\n",
    "from sklearn.feature_selection import SelectFromModel"
   ]
  },
  {
   "cell_type": "code",
   "execution_count": 41,
   "metadata": {},
   "outputs": [
    {
     "data": {
      "text/plain": [
       "(5493, 32)"
      ]
     },
     "execution_count": 41,
     "metadata": {},
     "output_type": "execute_result"
    }
   ],
   "source": [
    "lsvc = LinearSVC(C=0.01, class_weight='balanced', penalty=\"l1\", dual=False).fit(X_train, y_train)\n",
    "model3 = SelectFromModel(lsvc, prefit=True)\n",
    "X_new3 = model3.transform(X_train)\n",
    "X_new3.shape"
   ]
  },
  {
   "cell_type": "code",
   "execution_count": 42,
   "metadata": {},
   "outputs": [
    {
     "data": {
      "text/plain": [
       "(5493, 41)"
      ]
     },
     "execution_count": 42,
     "metadata": {},
     "output_type": "execute_result"
    }
   ],
   "source": [
    "lr = LogisticRegression(C=0.1, class_weight='balanced', random_state=0, solver='lbfgs',\n",
    "                         multi_class='multinomial').fit(X_train, y_train)\n",
    "model4 = SelectFromModel(lr, prefit=True)\n",
    "X_new4 = model4.transform(X_train)\n",
    "X_new4.shape"
   ]
  },
  {
   "cell_type": "code",
   "execution_count": 43,
   "metadata": {},
   "outputs": [
    {
     "data": {
      "text/plain": [
       "(5493, 44)"
      ]
     },
     "execution_count": 43,
     "metadata": {},
     "output_type": "execute_result"
    }
   ],
   "source": [
    "tree = ExtraTreesClassifier(n_estimators=50).fit(X_train, y_train)\n",
    "tree.feature_importances_  \n",
    "model5 = SelectFromModel(tree, prefit=True)\n",
    "X_new5 = model5.transform(X_train)\n",
    "X_new5.shape   "
   ]
  },
  {
   "cell_type": "markdown",
   "metadata": {},
   "source": [
    "Different dataset with different feature selection methods:<br\\>\n",
    "* Removing features with low variance: X_new1 (4)\n",
    "* Univariate feature selection(SelectKBest): X_new2 (10)\n",
    "* Feature selection using SelectFromModel\n",
    "  1. LinearSVC: X_new3 (32)\n",
    "  2. LogisticRegression: X_new4 (41)\n",
    "  3. ExtraTreesClassifier: X_new5 (45)"
   ]
  },
  {
   "cell_type": "markdown",
   "metadata": {},
   "source": [
    "# 2. Feature Decomposition with different methods from Sklearn"
   ]
  },
  {
   "cell_type": "code",
   "execution_count": 44,
   "metadata": {},
   "outputs": [
    {
     "data": {
      "text/plain": [
       "(5493, 10)"
      ]
     },
     "execution_count": 44,
     "metadata": {},
     "output_type": "execute_result"
    }
   ],
   "source": [
    "from sklearn.decomposition import KernelPCA\n",
    "model6 = KernelPCA(n_components=10).fit(X_train, y_train)\n",
    "X_new6 = model6.transform(X_train)\n",
    "X_new6.shape"
   ]
  },
  {
   "cell_type": "code",
   "execution_count": 45,
   "metadata": {},
   "outputs": [
    {
     "data": {
      "text/plain": [
       "(5493, 20)"
      ]
     },
     "execution_count": 45,
     "metadata": {},
     "output_type": "execute_result"
    }
   ],
   "source": [
    "from sklearn.decomposition import KernelPCA\n",
    "model7 = KernelPCA(n_components=20).fit(X_train, y_train)\n",
    "X_new7 = model7.transform(X_train)\n",
    "X_new7.shape"
   ]
  },
  {
   "cell_type": "code",
   "execution_count": 46,
   "metadata": {},
   "outputs": [
    {
     "data": {
      "text/plain": [
       "(5493, 30)"
      ]
     },
     "execution_count": 46,
     "metadata": {},
     "output_type": "execute_result"
    }
   ],
   "source": [
    "from sklearn.decomposition import KernelPCA\n",
    "model8 = KernelPCA(n_components=30).fit(X_train, y_train)\n",
    "X_new8 = model8.transform(X_train)\n",
    "X_new8.shape"
   ]
  },
  {
   "cell_type": "markdown",
   "metadata": {},
   "source": [
    "<p style=\"text-align: center;font-size: 40px;\">Part 5. <br\\><br\\> Build classifiers with Cross Validation<br\\><br\\></p>\n",
    "<br\\>"
   ]
  },
  {
   "cell_type": "markdown",
   "metadata": {},
   "source": [
    "## All features with Logistic Regression"
   ]
  },
  {
   "cell_type": "code",
   "execution_count": 47,
   "metadata": {},
   "outputs": [
    {
     "name": "stdout",
     "output_type": "stream",
     "text": [
      "0.4804296377207355\n",
      "0.370276008492569\n"
     ]
    }
   ],
   "source": [
    "from sklearn.linear_model import LogisticRegression\n",
    "clf = LogisticRegression(solver='lbfgs', class_weight='balanced', multi_class='multinomial', random_state=0).fit(X_train, y_train)\n",
    "print(clf.score(X_train, y_train))\n",
    "print(clf.score(X_test, y_test))"
   ]
  },
  {
   "cell_type": "markdown",
   "metadata": {},
   "source": [
    "## PCA - poly kernel with all possible features and Logistic Regression\n",
    "\n",
    "time consuming - don't execute"
   ]
  },
  {
   "cell_type": "code",
   "execution_count": 48,
   "metadata": {
    "collapsed": true
   },
   "outputs": [],
   "source": [
    "# model = KernelPCA(kernel='poly').fit(X_train, y_train)\n",
    "# X = model.transform(X_train)\n",
    "# y = y_train\n",
    "# X_test_tmp = model.transform(X_test)\n",
    "# clf = LogisticRegressionCV(cv=5, solver='lbfgs', class_weight='balanced', multi_class='multinomial', random_state=0).fit(X, y)"
   ]
  },
  {
   "cell_type": "code",
   "execution_count": 49,
   "metadata": {},
   "outputs": [],
   "source": [
    "# print(clf.score(X, y_train))\n",
    "# print(clf.score(X_test_tmp, y_test))"
   ]
  },
  {
   "cell_type": "markdown",
   "metadata": {},
   "source": [
    "## PCA-linear kernel(different number of features) with Logistic Regression"
   ]
  },
  {
   "cell_type": "code",
   "execution_count": 50,
   "metadata": {},
   "outputs": [
    {
     "name": "stdout",
     "output_type": "stream",
     "text": [
      "current comp: 10\n",
      "current comp: 20\n",
      "current comp: 30\n",
      "current comp: 40\n",
      "current comp: 50\n",
      "current comp: 60\n",
      "current comp: 70\n",
      "current comp: 80\n",
      "current comp: 90\n",
      "current comp: 100\n",
      "current comp: 130\n",
      "current comp: 160\n",
      "current comp: 190\n",
      "current comp: 210\n"
     ]
    }
   ],
   "source": [
    "comps = [10, 20, 30, 40, 50, 60, 70, 80, 90, 100, 130, 160, 190, 210]\n",
    "models = []\n",
    "clfs = []\n",
    "scores_train = []\n",
    "scores_test = []\n",
    "\n",
    "for comp in comps:\n",
    "    print('current comp:', comp)\n",
    "    model = KernelPCA(n_components=comp).fit(X_train, y_train)\n",
    "    X = model.transform(X_train)\n",
    "    y = y_train\n",
    "    X_test_tmp = model.transform(X_test)\n",
    "    clf = LogisticRegressionCV(cv=5, solver='lbfgs', class_weight='balanced', multi_class='multinomial', random_state=0).fit(X, y)\n",
    "    \n",
    "    models.append(model)\n",
    "    clfs.append(clf)\n",
    "    scores_train.append(clf.score(X, y_train))\n",
    "    scores_test.append(clf.score(X_test_tmp, y_test))"
   ]
  },
  {
   "cell_type": "code",
   "execution_count": 51,
   "metadata": {},
   "outputs": [
    {
     "data": {
      "text/plain": [
       "[0.3790278536318951,\n",
       " 0.5059166211541962,\n",
       " 0.5392317494993628,\n",
       " 0.5596213362461314,\n",
       " 0.5709084289095212,\n",
       " 0.5871108683779356,\n",
       " 0.5923903149462952,\n",
       " 0.5960313125796468,\n",
       " 0.6013107591480066,\n",
       " 0.6034953577280174,\n",
       " 0.601128709266339,\n",
       " 0.6042235572546878,\n",
       " 0.6038594574913526,\n",
       " 0.6018569087930092]"
      ]
     },
     "execution_count": 51,
     "metadata": {},
     "output_type": "execute_result"
    }
   ],
   "source": [
    "scores_train"
   ]
  },
  {
   "cell_type": "code",
   "execution_count": 52,
   "metadata": {},
   "outputs": [
    {
     "data": {
      "text/plain": [
       "[0.35966029723991505,\n",
       " 0.4607218683651805,\n",
       " 0.36348195329087046,\n",
       " 0.22123142250530786,\n",
       " 0.15159235668789808,\n",
       " 0.16772823779193205,\n",
       " 0.17367303609341825,\n",
       " 0.14522292993630573,\n",
       " 0.17367303609341825,\n",
       " 0.16772823779193205,\n",
       " 0.1643312101910828,\n",
       " 0.16093418259023354,\n",
       " 0.16050955414012738,\n",
       " 0.15966029723991507]"
      ]
     },
     "execution_count": 52,
     "metadata": {},
     "output_type": "execute_result"
    }
   ],
   "source": [
    "scores_test"
   ]
  },
  {
   "cell_type": "code",
   "execution_count": 53,
   "metadata": {},
   "outputs": [
    {
     "data": {
      "text/plain": [
       "<matplotlib.legend.Legend at 0x1b9055d2d68>"
      ]
     },
     "execution_count": 53,
     "metadata": {},
     "output_type": "execute_result"
    },
    {
     "data": {
      "image/png": "[encoded data removed]",
      "text/plain": [
       "<matplotlib.figure.Figure at 0x1b9056b3cf8>"
      ]
     },
     "metadata": {},
     "output_type": "display_data"
    }
   ],
   "source": [
    "plt.plot(comps, scores_train, c = 'red')\n",
    "plt.plot(comps, scores_test, c = 'blue')\n",
    "plt.scatter(comps, scores_train, c = 'red')\n",
    "plt.scatter(comps, scores_test, c = 'blue')\n",
    "\n",
    "plt.xlabel('# of components')\n",
    "plt.ylabel('accuracy')\n",
    "\n",
    "plt.legend(('training', 'testing'), loc='middle right', bbox_to_anchor=(1, 1.02))"
   ]
  },
  {
   "cell_type": "code",
   "execution_count": null,
   "metadata": {
    "collapsed": true
   },
   "outputs": [],
   "source": []
  },
  {
   "cell_type": "markdown",
   "metadata": {},
   "source": [
    "## PCA-poly kernel(different number of features) with Logistic Regression"
   ]
  },
  {
   "cell_type": "code",
   "execution_count": 54,
   "metadata": {},
   "outputs": [
    {
     "name": "stdout",
     "output_type": "stream",
     "text": [
      "current comp: 2\n",
      "current comp: 3\n",
      "current comp: 4\n",
      "current comp: 5\n",
      "current comp: 6\n",
      "current comp: 7\n",
      "current comp: 8\n",
      "current comp: 9\n",
      "current comp: 10\n",
      "current comp: 11\n",
      "current comp: 12\n",
      "current comp: 13\n",
      "current comp: 14\n",
      "current comp: 15\n",
      "current comp: 16\n",
      "current comp: 17\n",
      "current comp: 18\n",
      "current comp: 19\n",
      "current comp: 20\n"
     ]
    },
    {
     "data": {
      "text/plain": [
       "<matplotlib.legend.Legend at 0x1b90d9eecf8>"
      ]
     },
     "execution_count": 54,
     "metadata": {},
     "output_type": "execute_result"
    },
    {
     "data": {
      "image/png": "[encoded data removed]",
      "text/plain": [
       "<matplotlib.figure.Figure at 0x1b905624668>"
      ]
     },
     "metadata": {},
     "output_type": "display_data"
    }
   ],
   "source": [
    "from sklearn.svm import SVC\n",
    "clf = SVC(random_state=0)\n",
    "\n",
    "comps = [i for i in range(2,21)]\n",
    "scores_train = []\n",
    "scores_test = []\n",
    "\n",
    "for comp in comps:\n",
    "    print('current comp:', comp)\n",
    "    model = KernelPCA(n_components=comp, kernel='poly').fit(X_train, y_train)\n",
    "    X = model.transform(X_train)\n",
    "    y = y_train\n",
    "    X_test_tmp = model.transform(X_test)\n",
    "    \n",
    "    clf.fit(X, y)\n",
    "    scores_train.append(clf.score(X, y_train))\n",
    "    scores_test.append(clf.score(X_test_tmp, y_test))\n",
    "    \n",
    "    \n",
    "plt.plot(comps, scores_train, c = 'red')\n",
    "plt.plot(comps, scores_test, c = 'blue')\n",
    "plt.scatter(comps, scores_train, c = 'red')\n",
    "plt.scatter(comps, scores_test, c = 'blue')\n",
    "\n",
    "plt.xlabel('# of components')\n",
    "plt.ylabel('accuracy')\n",
    "\n",
    "plt.legend(('training', 'testing'), loc='middle right', bbox_to_anchor=(1, 1.02))"
   ]
  },
  {
   "cell_type": "markdown",
   "metadata": {},
   "source": [
    "## RandomForest"
   ]
  },
  {
   "cell_type": "code",
   "execution_count": 55,
   "metadata": {},
   "outputs": [
    {
     "name": "stdout",
     "output_type": "stream",
     "text": [
      "current feature: 5\n",
      "current feature: 10\n",
      "current feature: 15\n",
      "current feature: 20\n",
      "current feature: 25\n",
      "current feature: 30\n",
      "current feature: 35\n",
      "current feature: 40\n"
     ]
    },
    {
     "data": {
      "text/plain": [
       "<matplotlib.legend.Legend at 0x1b90fa1bf28>"
      ]
     },
     "execution_count": 55,
     "metadata": {},
     "output_type": "execute_result"
    },
    {
     "data": {
      "image/png": "[encoded data removed]",
      "text/plain": [
       "<matplotlib.figure.Figure at 0x1b96302feb8>"
      ]
     },
     "metadata": {},
     "output_type": "display_data"
    }
   ],
   "source": [
    "from sklearn.ensemble import RandomForestClassifier\n",
    "\n",
    "features = [5, 10, 15, 20, 25, 30, 35, 40]\n",
    "scores_train = []\n",
    "scores_test = []\n",
    "\n",
    "for feature in features:\n",
    "    print('current feature:', feature)\n",
    "    clf = RandomForestClassifier(n_estimators=100, max_depth=feature, random_state=0)\n",
    "    clf.fit(X, y)\n",
    "    scores_train.append(clf.score(X, y_train))\n",
    "    scores_test.append(clf.score(X_test_tmp, y_test))\n",
    "    \n",
    "    \n",
    "plt.plot(features, scores_train, c = 'red')\n",
    "plt.plot(features, scores_test, c = 'blue')\n",
    "plt.scatter(features, scores_train, c = 'red')\n",
    "plt.scatter(features, scores_test, c = 'blue')\n",
    "\n",
    "plt.xlabel('# of features')\n",
    "plt.ylabel('accuracy')\n",
    "\n",
    "plt.legend(('training', 'testing'), loc='middle right', bbox_to_anchor=(1, 1.02))"
   ]
  },
  {
   "cell_type": "code",
   "execution_count": 56,
   "metadata": {},
   "outputs": [
    {
     "data": {
      "text/plain": [
       "[0.5157473147642454,\n",
       " 0.6886947023484434,\n",
       " 0.9073366102312034,\n",
       " 0.9910795557982888,\n",
       " 0.9996359002366648,\n",
       " 1.0,\n",
       " 1.0,\n",
       " 1.0]"
      ]
     },
     "execution_count": 56,
     "metadata": {},
     "output_type": "execute_result"
    }
   ],
   "source": [
    "scores_train"
   ]
  },
  {
   "cell_type": "code",
   "execution_count": 57,
   "metadata": {},
   "outputs": [
    {
     "data": {
      "text/plain": [
       "[0.49044585987261147,\n",
       " 0.5537154989384289,\n",
       " 0.5808917197452229,\n",
       " 0.5851380042462845,\n",
       " 0.5872611464968153,\n",
       " 0.5876857749469214,\n",
       " 0.5825902335456475,\n",
       " 0.5859872611464968]"
      ]
     },
     "execution_count": 57,
     "metadata": {},
     "output_type": "execute_result"
    }
   ],
   "source": [
    "scores_test"
   ]
  },
  {
   "cell_type": "markdown",
   "metadata": {},
   "source": [
    "## Gradient boosting"
   ]
  },
  {
   "cell_type": "code",
   "execution_count": 62,
   "metadata": {},
   "outputs": [
    {
     "name": "stdout",
     "output_type": "stream",
     "text": [
      "current feature: 5\n",
      "current feature: 10\n",
      "current feature: 15\n",
      "current feature: 20\n",
      "current feature: 25\n",
      "current feature: 30\n",
      "current feature: 35\n",
      "current feature: 40\n"
     ]
    },
    {
     "data": {
      "text/plain": [
       "<matplotlib.legend.Legend at 0x1b90feb09b0>"
      ]
     },
     "execution_count": 62,
     "metadata": {},
     "output_type": "execute_result"
    },
    {
     "data": {
      "image/png": "[encoded data removed]",
      "text/plain": [
       "<matplotlib.figure.Figure at 0x1b90fecf7f0>"
      ]
     },
     "metadata": {},
     "output_type": "display_data"
    }
   ],
   "source": [
    "from sklearn.ensemble import RandomForestClassifier\n",
    "\n",
    "features = [5, 10, 15, 20, 25, 30, 35, 40]\n",
    "scores_train = []\n",
    "scores_test = []\n",
    "\n",
    "for feature in features:\n",
    "    print('current feature:', feature)\n",
    "    clf = GradientBoostingClassifier(n_estimators=100, max_depth=feature, random_state=0)\n",
    "    #clf = RandomForestClassifier(n_estimators=100, max_depth=feature, random_state=0)\n",
    "    clf.fit(X, y)\n",
    "    scores_train.append(clf.score(X, y_train))\n",
    "    scores_test.append(clf.score(X_test_tmp, y_test))\n",
    "    \n",
    "    \n",
    "plt.plot(features, scores_train, c = 'red')\n",
    "plt.plot(features, scores_test, c = 'blue')\n",
    "plt.scatter(features, scores_train, c = 'red')\n",
    "plt.scatter(features, scores_test, c = 'blue')\n",
    "\n",
    "plt.xlabel('# of features')\n",
    "plt.ylabel('accuracy')\n",
    "\n",
    "plt.legend(('training', 'testing'), loc='middle right', bbox_to_anchor=(1, 1.02))"
   ]
  },
  {
   "cell_type": "code",
   "execution_count": 63,
   "metadata": {},
   "outputs": [
    {
     "data": {
      "text/plain": [
       "[0.9781540141998908, 1.0, 1.0, 1.0, 1.0, 1.0, 1.0, 1.0]"
      ]
     },
     "execution_count": 63,
     "metadata": {},
     "output_type": "execute_result"
    }
   ],
   "source": [
    "scores_train"
   ]
  },
  {
   "cell_type": "code",
   "execution_count": 64,
   "metadata": {},
   "outputs": [
    {
     "data": {
      "text/plain": [
       "[0.5749469214437367,\n",
       " 0.5630573248407643,\n",
       " 0.5346072186836518,\n",
       " 0.4870488322717622,\n",
       " 0.45392781316348196,\n",
       " 0.43821656050955415,\n",
       " 0.43906581740976647,\n",
       " 0.4407643312101911]"
      ]
     },
     "execution_count": 64,
     "metadata": {},
     "output_type": "execute_result"
    }
   ],
   "source": [
    "scores_test"
   ]
  },
  {
   "cell_type": "markdown",
   "metadata": {},
   "source": [
    "## Feature transformations with ensembles of trees (Don't try this - needs editing)"
   ]
  },
  {
   "cell_type": "code",
   "execution_count": 59,
   "metadata": {
    "collapsed": true
   },
   "outputs": [],
   "source": [
    "import numpy as np\n",
    "np.random.seed(10)\n",
    "\n",
    "import matplotlib.pyplot as plt\n",
    "\n",
    "from sklearn.datasets import make_classification\n",
    "from sklearn.linear_model import LogisticRegression\n",
    "from sklearn.ensemble import (RandomTreesEmbedding, RandomForestClassifier,\n",
    "                              GradientBoostingClassifier)\n",
    "from sklearn.preprocessing import OneHotEncoder\n",
    "from sklearn.model_selection import train_test_split\n",
    "from sklearn.metrics import roc_curve\n",
    "from sklearn.pipeline import make_pipeline\n"
   ]
  },
  {
   "cell_type": "code",
   "execution_count": 61,
   "metadata": {},
   "outputs": [
    {
     "ename": "ValueError",
     "evalue": "multiclass format is not supported",
     "output_type": "error",
     "traceback": [
      "\u001b[1;31m---------------------------------------------------------------------------\u001b[0m",
      "\u001b[1;31mValueError\u001b[0m                                Traceback (most recent call last)",
      "\u001b[1;32m<ipython-input-61-26126c5f553a>\u001b[0m in \u001b[0;36m<module>\u001b[1;34m()\u001b[0m\n\u001b[0;32m      7\u001b[0m \u001b[0mpipeline\u001b[0m\u001b[1;33m.\u001b[0m\u001b[0mfit\u001b[0m\u001b[1;33m(\u001b[0m\u001b[0mX_train\u001b[0m\u001b[1;33m,\u001b[0m \u001b[0my_train\u001b[0m\u001b[1;33m)\u001b[0m\u001b[1;33m\u001b[0m\u001b[0m\n\u001b[0;32m      8\u001b[0m \u001b[0my_pred_rt\u001b[0m \u001b[1;33m=\u001b[0m \u001b[0mpipeline\u001b[0m\u001b[1;33m.\u001b[0m\u001b[0mpredict_proba\u001b[0m\u001b[1;33m(\u001b[0m\u001b[0mX_test\u001b[0m\u001b[1;33m)\u001b[0m\u001b[1;33m[\u001b[0m\u001b[1;33m:\u001b[0m\u001b[1;33m,\u001b[0m \u001b[1;36m1\u001b[0m\u001b[1;33m]\u001b[0m\u001b[1;33m\u001b[0m\u001b[0m\n\u001b[1;32m----> 9\u001b[1;33m \u001b[0mfpr_rt_lm\u001b[0m\u001b[1;33m,\u001b[0m \u001b[0mtpr_rt_lm\u001b[0m\u001b[1;33m,\u001b[0m \u001b[0m_\u001b[0m \u001b[1;33m=\u001b[0m \u001b[0mroc_curve\u001b[0m\u001b[1;33m(\u001b[0m\u001b[0my_test\u001b[0m\u001b[1;33m,\u001b[0m \u001b[0my_pred_rt\u001b[0m\u001b[1;33m)\u001b[0m\u001b[1;33m\u001b[0m\u001b[0m\n\u001b[0m",
      "\u001b[1;32m~\\Anaconda3\\lib\\site-packages\\sklearn\\metrics\\ranking.py\u001b[0m in \u001b[0;36mroc_curve\u001b[1;34m(y_true, y_score, pos_label, sample_weight, drop_intermediate)\u001b[0m\n\u001b[0;32m    532\u001b[0m     \"\"\"\n\u001b[0;32m    533\u001b[0m     fps, tps, thresholds = _binary_clf_curve(\n\u001b[1;32m--> 534\u001b[1;33m         y_true, y_score, pos_label=pos_label, sample_weight=sample_weight)\n\u001b[0m\u001b[0;32m    535\u001b[0m \u001b[1;33m\u001b[0m\u001b[0m\n\u001b[0;32m    536\u001b[0m     \u001b[1;31m# Attempt to drop thresholds corresponding to points in between and\u001b[0m\u001b[1;33m\u001b[0m\u001b[1;33m\u001b[0m\u001b[0m\n",
      "\u001b[1;32m~\\Anaconda3\\lib\\site-packages\\sklearn\\metrics\\ranking.py\u001b[0m in \u001b[0;36m_binary_clf_curve\u001b[1;34m(y_true, y_score, pos_label, sample_weight)\u001b[0m\n\u001b[0;32m    316\u001b[0m     if not (y_type == \"binary\" or\n\u001b[0;32m    317\u001b[0m             (y_type == \"multiclass\" and pos_label is not None)):\n\u001b[1;32m--> 318\u001b[1;33m         \u001b[1;32mraise\u001b[0m \u001b[0mValueError\u001b[0m\u001b[1;33m(\u001b[0m\u001b[1;34m\"{0} format is not supported\"\u001b[0m\u001b[1;33m.\u001b[0m\u001b[0mformat\u001b[0m\u001b[1;33m(\u001b[0m\u001b[0my_type\u001b[0m\u001b[1;33m)\u001b[0m\u001b[1;33m)\u001b[0m\u001b[1;33m\u001b[0m\u001b[0m\n\u001b[0m\u001b[0;32m    319\u001b[0m \u001b[1;33m\u001b[0m\u001b[0m\n\u001b[0;32m    320\u001b[0m     \u001b[0mcheck_consistent_length\u001b[0m\u001b[1;33m(\u001b[0m\u001b[0my_true\u001b[0m\u001b[1;33m,\u001b[0m \u001b[0my_score\u001b[0m\u001b[1;33m,\u001b[0m \u001b[0msample_weight\u001b[0m\u001b[1;33m)\u001b[0m\u001b[1;33m\u001b[0m\u001b[0m\n",
      "\u001b[1;31mValueError\u001b[0m: multiclass format is not supported"
     ]
    }
   ],
   "source": [
    "# Unsupervised transformation based on totally random trees\n",
    "rt = RandomTreesEmbedding(max_depth=3, n_estimators=10,\n",
    "                          random_state=0)\n",
    "\n",
    "rt_lm = LogisticRegression(solver='lbfgs', max_iter=1000)\n",
    "pipeline = make_pipeline(rt, rt_lm)\n",
    "pipeline.fit(X_train, y_train)\n",
    "y_pred_rt = pipeline.predict_proba(X_test)[:, 1]\n",
    "fpr_rt_lm, tpr_rt_lm, _ = roc_curve(y_test, y_pred_rt)"
   ]
  },
  {
   "cell_type": "code",
   "execution_count": null,
   "metadata": {
    "collapsed": true
   },
   "outputs": [],
   "source": [
    "# Supervised transformation based on random forests\n",
    "rf = RandomForestClassifier(max_depth=3, n_estimators=n_estimator)\n",
    "rf_enc = OneHotEncoder(categories='auto')\n",
    "rf_lm = LogisticRegression(solver='lbfgs', max_iter=1000)\n",
    "rf.fit(X_train, y_train)\n",
    "rf_enc.fit(rf.apply(X_train))\n",
    "rf_lm.fit(rf_enc.transform(rf.apply(X_train_lr)), y_train_lr)\n",
    "\n",
    "y_pred_rf_lm = rf_lm.predict_proba(rf_enc.transform(rf.apply(X_test)))[:, 1]\n",
    "fpr_rf_lm, tpr_rf_lm, _ = roc_curve(y_test, y_pred_rf_lm)\n",
    "\n",
    "# Supervised transformation based on gradient boosted trees\n",
    "grd = GradientBoostingClassifier(n_estimators=n_estimator)\n",
    "grd_enc = OneHotEncoder(categories='auto')\n",
    "grd_lm = LogisticRegression(solver='lbfgs', max_iter=1000)\n",
    "grd.fit(X_train, y_train)\n",
    "grd_enc.fit(grd.apply(X_train)[:, :, 0])\n",
    "grd_lm.fit(grd_enc.transform(grd.apply(X_train_lr)[:, :, 0]), y_train_lr)\n",
    "\n",
    "y_pred_grd_lm = grd_lm.predict_proba(\n",
    "    grd_enc.transform(grd.apply(X_test)[:, :, 0]))[:, 1]\n",
    "fpr_grd_lm, tpr_grd_lm, _ = roc_curve(y_test, y_pred_grd_lm)\n",
    "\n",
    "# The gradient boosted model by itself\n",
    "y_pred_grd = grd.predict_proba(X_test)[:, 1]\n",
    "fpr_grd, tpr_grd, _ = roc_curve(y_test, y_pred_grd)\n",
    "\n",
    "# The random forest model by itself\n",
    "y_pred_rf = rf.predict_proba(X_test)[:, 1]\n",
    "fpr_rf, tpr_rf, _ = roc_curve(y_test, y_pred_rf)\n",
    "\n"
   ]
  },
  {
   "cell_type": "code",
   "execution_count": null,
   "metadata": {
    "collapsed": true
   },
   "outputs": [],
   "source": [
    "plt.figure(1)\n",
    "plt.plot([0, 1], [0, 1], 'k--')\n",
    "plt.plot(fpr_rt_lm, tpr_rt_lm, label='RT + LR')\n",
    "plt.plot(fpr_rf, tpr_rf, label='RF')\n",
    "plt.plot(fpr_rf_lm, tpr_rf_lm, label='RF + LR')\n",
    "plt.plot(fpr_grd, tpr_grd, label='GBT')\n",
    "plt.plot(fpr_grd_lm, tpr_grd_lm, label='GBT + LR')\n",
    "plt.xlabel('False positive rate')\n",
    "plt.ylabel('True positive rate')\n",
    "plt.title('ROC curve')\n",
    "plt.legend(loc='best')\n",
    "plt.show()\n",
    "\n",
    "plt.figure(2)\n",
    "plt.xlim(0, 0.2)\n",
    "plt.ylim(0.8, 1)\n",
    "plt.plot([0, 1], [0, 1], 'k--')\n",
    "plt.plot(fpr_rt_lm, tpr_rt_lm, label='RT + LR')\n",
    "plt.plot(fpr_rf, tpr_rf, label='RF')\n",
    "plt.plot(fpr_rf_lm, tpr_rf_lm, label='RF + LR')\n",
    "plt.plot(fpr_grd, tpr_grd, label='GBT')\n",
    "plt.plot(fpr_grd_lm, tpr_grd_lm, label='GBT + LR')\n",
    "plt.xlabel('False positive rate')\n",
    "plt.ylabel('True positive rate')\n",
    "plt.title('ROC curve (zoomed in at top left)')\n",
    "plt.legend(loc='best')\n",
    "plt.show()"
   ]
  },
  {
   "cell_type": "markdown",
   "metadata": {},
   "source": [
    "## RandomForest with feature decomposition (Don't run this - needs editing)"
   ]
  },
  {
   "cell_type": "code",
   "execution_count": null,
   "metadata": {
    "collapsed": true
   },
   "outputs": [],
   "source": [
    "from sklearn.ensemble import RandomForestClassifier\n",
    "\n",
    "features = [5, 10, 15, 20, 25, 30, 35, 40]\n",
    "scores_train = []\n",
    "scores_test = []\n",
    "\n",
    "for feature in features:\n",
    "    print('current feature:', feature)\n",
    "    clf = RandomForestClassifier(n_estimators=100, max_depth=feature, random_state=0)\n",
    "    clf.fit(X, y)\n",
    "    scores_train.append(clf.score(X, y_train))\n",
    "    scores_test.append(clf.score(X_test_tmp, y_test))\n",
    "    \n",
    "    \n",
    "plt.plot(features, scores_train, c = 'red')\n",
    "plt.plot(features, scores_test, c = 'blue')\n",
    "plt.scatter(features, scores_train, c = 'red')\n",
    "plt.scatter(features, scores_test, c = 'blue')\n",
    "\n",
    "plt.xlabel('# of features')\n",
    "plt.ylabel('accuracy')\n",
    "\n",
    "plt.legend(('training', 'testing'), loc='middle right', bbox_to_anchor=(1, 1.02))"
   ]
  },
  {
   "cell_type": "markdown",
   "metadata": {},
   "source": [
    "## Random Forest with Grid Search "
   ]
  },
  {
   "cell_type": "code",
   "execution_count": 65,
   "metadata": {
    "collapsed": true
   },
   "outputs": [],
   "source": [
    "import numpy as np\n",
    "\n",
    "from time import time\n",
    "from scipy.stats import randint as sp_randint\n",
    "\n",
    "from sklearn.model_selection import GridSearchCV\n",
    "from sklearn.model_selection import RandomizedSearchCV\n",
    "from sklearn.datasets import load_digits\n",
    "from sklearn.ensemble import RandomForestClassifier"
   ]
  },
  {
   "cell_type": "code",
   "execution_count": 66,
   "metadata": {
    "collapsed": true
   },
   "outputs": [],
   "source": [
    "# build a classifier\n",
    "clf = RandomForestClassifier(n_estimators=20)"
   ]
  },
  {
   "cell_type": "code",
   "execution_count": 67,
   "metadata": {
    "collapsed": true
   },
   "outputs": [],
   "source": [
    "# Utility function to report best scores\n",
    "def report(results, n_top=3):\n",
    "    for i in range(1, n_top + 1):\n",
    "        candidates = np.flatnonzero(results['rank_test_score'] == i)\n",
    "        for candidate in candidates:\n",
    "            print(\"Model with rank: {0}\".format(i))\n",
    "            print(\"Mean validation score: {0:.3f} (std: {1:.3f})\".format(\n",
    "                  results['mean_test_score'][candidate],\n",
    "                  results['std_test_score'][candidate]))\n",
    "            print(\"Parameters: {0}\".format(results['params'][candidate]))\n",
    "            print(\"\")"
   ]
  },
  {
   "cell_type": "code",
   "execution_count": 68,
   "metadata": {
    "collapsed": true
   },
   "outputs": [],
   "source": [
    "# specify parameters and distributions to sample from\n",
    "param_dist = {\"max_depth\": [3, None],\n",
    "              \"max_features\": sp_randint(1, 11),\n",
    "              \"min_samples_split\": sp_randint(2, 11),\n",
    "              \"bootstrap\": [True, False],\n",
    "              \"criterion\": [\"gini\", \"entropy\"]}\n"
   ]
  },
  {
   "cell_type": "code",
   "execution_count": 69,
   "metadata": {},
   "outputs": [
    {
     "name": "stdout",
     "output_type": "stream",
     "text": [
      "RandomizedSearchCV took 55.60 seconds for 20 candidates parameter settings.\n",
      "Model with rank: 1\n",
      "Mean validation score: 0.588 (std: 0.012)\n",
      "Parameters: {'bootstrap': False, 'criterion': 'gini', 'max_depth': None, 'max_features': 7, 'min_samples_split': 9}\n",
      "\n",
      "Model with rank: 2\n",
      "Mean validation score: 0.584 (std: 0.010)\n",
      "Parameters: {'bootstrap': True, 'criterion': 'gini', 'max_depth': None, 'max_features': 9, 'min_samples_split': 3}\n",
      "\n",
      "Model with rank: 3\n",
      "Mean validation score: 0.583 (std: 0.011)\n",
      "Parameters: {'bootstrap': True, 'criterion': 'gini', 'max_depth': None, 'max_features': 9, 'min_samples_split': 4}\n",
      "\n"
     ]
    }
   ],
   "source": [
    "# run randomized search\n",
    "n_iter_search = 20\n",
    "random_search = RandomizedSearchCV(clf, param_distributions=param_dist,\n",
    "                                   n_iter=n_iter_search, cv=5)\n",
    "\n",
    "start = time()\n",
    "random_search.fit(X, y)\n",
    "print(\"RandomizedSearchCV took %.2f seconds for %d candidates\"\n",
    "      \" parameter settings.\" % ((time() - start), n_iter_search))\n",
    "report(random_search.cv_results_)\n"
   ]
  },
  {
   "cell_type": "code",
   "execution_count": 70,
   "metadata": {},
   "outputs": [
    {
     "name": "stdout",
     "output_type": "stream",
     "text": [
      "GridSearchCV took 311.93 seconds for 72 candidate parameter settings.\n",
      "Model with rank: 1\n",
      "Mean validation score: 0.595 (std: 0.007)\n",
      "Parameters: {'bootstrap': False, 'criterion': 'entropy', 'max_depth': None, 'max_features': 10, 'min_samples_split': 10}\n",
      "\n",
      "Model with rank: 2\n",
      "Mean validation score: 0.591 (std: 0.009)\n",
      "Parameters: {'bootstrap': False, 'criterion': 'gini', 'max_depth': None, 'max_features': 10, 'min_samples_split': 10}\n",
      "\n",
      "Model with rank: 3\n",
      "Mean validation score: 0.591 (std: 0.006)\n",
      "Parameters: {'bootstrap': False, 'criterion': 'entropy', 'max_depth': None, 'max_features': 10, 'min_samples_split': 3}\n",
      "\n"
     ]
    }
   ],
   "source": [
    "# use a full grid over all parameters\n",
    "param_grid = {\"max_depth\": [3, None],\n",
    "              \"max_features\": [1, 3, 10],\n",
    "              \"min_samples_split\": [2, 3, 10],\n",
    "              \"bootstrap\": [True, False],\n",
    "              \"criterion\": [\"gini\", \"entropy\"]}\n",
    "\n",
    "# run grid search\n",
    "grid_search = GridSearchCV(clf, param_grid=param_grid, cv=5)\n",
    "start = time()\n",
    "grid_search.fit(X, y)\n",
    "\n",
    "print(\"GridSearchCV took %.2f seconds for %d candidate parameter settings.\"\n",
    "      % (time() - start, len(grid_search.cv_results_['params'])))\n",
    "report(grid_search.cv_results_)"
   ]
  },
  {
   "cell_type": "code",
   "execution_count": null,
   "metadata": {
    "collapsed": true
   },
   "outputs": [],
   "source": []
  }
 ],
 "metadata": {
  "kernelspec": {
   "display_name": "Python 3",
   "language": "python",
   "name": "python3"
  },
  "language_info": {
   "codemirror_mode": {
    "name": "ipython",
    "version": 3
   },
   "file_extension": ".py",
   "mimetype": "text/x-python",
   "name": "python",
   "nbconvert_exporter": "python",
   "pygments_lexer": "ipython3",
   "version": "3.6.2"
  }
 },
 "nbformat": 4,
 "nbformat_minor": 2
}
